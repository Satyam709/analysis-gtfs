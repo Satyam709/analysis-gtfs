{
 "cells": [
  {
   "cell_type": "code",
   "execution_count": 1,
   "id": "d699cc3c",
   "metadata": {},
   "outputs": [
    {
     "name": "stderr",
     "output_type": "stream",
     "text": [
      "/tmp/ipykernel_4055/3261944809.py:4: DeprecationWarning: DataFrameGroupBy.apply operated on the grouping columns. This behavior is deprecated, and in a future version of pandas the grouping columns will be excluded from the operation. Either pass `include_groups=False` to exclude the groupings or explicitly select the grouping columns after groupby to silence this warning.\n",
      "  routes.groupby('agency_id').apply(\n"
     ]
    },
    {
     "data": {
      "text/html": [
       "<div>\n",
       "<style scoped>\n",
       "    .dataframe tbody tr th:only-of-type {\n",
       "        vertical-align: middle;\n",
       "    }\n",
       "\n",
       "    .dataframe tbody tr th {\n",
       "        vertical-align: top;\n",
       "    }\n",
       "\n",
       "    .dataframe thead th {\n",
       "        text-align: right;\n",
       "    }\n",
       "</style>\n",
       "<table border=\"1\" class=\"dataframe\">\n",
       "  <thead>\n",
       "    <tr style=\"text-align: right;\">\n",
       "      <th></th>\n",
       "      <th>Agency ID</th>\n",
       "      <th>Unique Routes</th>\n",
       "    </tr>\n",
       "  </thead>\n",
       "  <tbody>\n",
       "    <tr>\n",
       "      <th>0</th>\n",
       "      <td>1</td>\n",
       "      <td>136</td>\n",
       "    </tr>\n",
       "    <tr>\n",
       "      <th>1</th>\n",
       "      <td>23</td>\n",
       "      <td>2</td>\n",
       "    </tr>\n",
       "    <tr>\n",
       "      <th>2</th>\n",
       "      <td>40</td>\n",
       "      <td>7</td>\n",
       "    </tr>\n",
       "  </tbody>\n",
       "</table>\n",
       "</div>"
      ],
      "text/plain": [
       "   Agency ID  Unique Routes\n",
       "0          1            136\n",
       "1         23              2\n",
       "2         40              7"
      ]
     },
     "execution_count": 1,
     "metadata": {},
     "output_type": "execute_result"
    }
   ],
   "source": [
    "import pandas as pd\n",
    "routes = pd.read_csv('./data/routes.txt')\n",
    "\n",
    "routes.groupby('agency_id').apply(\n",
    "    lambda x: x['route_id'].nunique()\n",
    ").reset_index(name='unique_routes').rename(\n",
    "    columns={'agency_id': 'Agency ID', 'unique_routes': 'Unique Routes'}\n",
    ")"
   ]
  },
  {
   "cell_type": "code",
   "execution_count": 6,
   "id": "43974c4e",
   "metadata": {},
   "outputs": [],
   "source": [
    "# make a req to the API\n",
    "import requests\n",
    "def get_agency_info(agency_id):\n",
    "    url = f'http://localhost:8081/onebusaway-api-webapp/api/where/routes-for-agency/{agency_id}.json?key=test'\n",
    "    response = requests.get(url)\n",
    "    print(\"status code:\", response.status_code)\n",
    "    if response.status_code == 200:\n",
    "        return response.json()\n",
    "    else:\n",
    "        return None"
   ]
  },
  {
   "cell_type": "code",
   "execution_count": 12,
   "id": "4dc2a390",
   "metadata": {},
   "outputs": [
    {
     "name": "stdout",
     "output_type": "stream",
     "text": [
      "status code: 200\n",
      "Number of Routes: 136\n",
      "Route ID: 1_102718, Name: 184 - \n",
      "Route ID: 1_102717, Name: 165 - \n",
      "Route ID: 1_102719, Name: 161 - \n",
      "Route ID: 1_100136, Name: 245 - \n",
      "Route ID: 1_102555, Name: 893 - \n",
      "Route ID: 1_100016, Name: 118 - \n",
      "Route ID: 1_100137, Name: 246 - \n",
      "Route ID: 1_100017, Name: 119 - \n",
      "Route ID: 1_100259, Name: 67 - \n",
      "Route ID: 1_102557, Name: 915 - \n",
      "Route ID: 1_100018, Name: 12 - \n",
      "Route ID: 1_100139, Name: 249 - \n",
      "Route ID: 1_102715, Name: 162 - \n",
      "Route ID: 1_100252, Name: 62 - \n",
      "Route ID: 1_102552, Name: 226 - \n",
      "Route ID: 1_100011, Name: 111 - \n",
      "Route ID: 1_100099, Name: 208 - \n",
      "Route ID: 1_100132, Name: 24 - \n",
      "Route ID: 1_100495, Name: 193 - \n",
      "Route ID: 1_100012, Name: 113 - \n",
      "Route ID: 1_100133, Name: 240 - \n",
      "Route ID: 1_100254, Name: 65 - \n",
      "Route ID: 1_100496, Name: 930 - \n",
      "Route ID: 1_102554, Name: 241 - \n",
      "Route ID: 1_102729, Name: 322 - \n",
      "Route ID: 1_100146, Name: 255 - \n",
      "Route ID: 1_100300, Name: 917 - \n",
      "Route ID: 1_100026, Name: 128 - \n",
      "Route ID: 1_102720, Name: 160 - \n",
      "Route ID: 1_100148, Name: 257 - \n",
      "Route ID: 1_100269, Name: 75 - \n",
      "Route ID: 1_100028, Name: 13 - \n",
      "Route ID: 1_102561, Name: 907 - \n",
      "Route ID: 1_100263, Name: 7 - \n",
      "Route ID: 1_100264, Name: 70 - \n",
      "Route ID: 1_100023, Name: 124 - \n",
      "Route ID: 1_100024, Name: 125 - \n",
      "Route ID: 1_100113, Name: 221 - \n",
      "Route ID: 1_100512, Name: A Line - \n",
      "Route ID: 1_100072, Name: 181 - \n",
      "Route ID: 1_100193, Name: 32 - \n",
      "Route ID: 1_100073, Name: 182 - \n",
      "Route ID: 1_100194, Name: 33 - \n",
      "Route ID: 1_100074, Name: 183 - \n",
      "Route ID: 1_100196, Name: 331 - \n",
      "Route ID: 1_100230, Name: 50 - \n",
      "Route ID: 1_100473, Name: 981 - \n",
      "Route ID: 1_102650, Name: Trailhead Direct Mt. Si - \n",
      "Route ID: 1_100078, Name: 187 - \n",
      "Route ID: 1_100111, Name: 22 - \n",
      "Route ID: 1_102653, Name: 224 - \n",
      "Route ID: 1_102652, Name: 204 - \n",
      "Route ID: 1_100003, Name: 101 - \n",
      "Route ID: 1_100487, Name: 102 - \n",
      "Route ID: 1_100004, Name: 105 - \n",
      "Route ID: 1_100246, Name: 57 - \n",
      "Route ID: 1_100005, Name: 106 - \n",
      "Route ID: 1_100489, Name: 156 - \n",
      "Route ID: 1_102701, Name: 225 - \n",
      "Route ID: 1_100006, Name: 107 - \n",
      "Route ID: 1_100249, Name: 60 - \n",
      "Route ID: 1_102703, Name: 231 - \n",
      "Route ID: 1_102548, Name: B Line - \n",
      "Route ID: 1_102702, Name: 239 - \n",
      "Route ID: 1_100009, Name: 11 - \n",
      "Route ID: 1_102705, Name: 230 - \n",
      "Route ID: 1_102704, Name: 250 - \n",
      "Route ID: 1_100481, Name: 775 - \n",
      "Route ID: 1_100242, Name: 56 - \n",
      "Route ID: 1_100001, Name: 1 - \n",
      "Route ID: 1_100089, Name: 2 - \n",
      "Route ID: 1_100002, Name: 10 - \n",
      "Route ID: 1_100214, Name: 372 - \n",
      "Route ID: 1_100336, Name: 973 - \n",
      "Route ID: 1_102634, Name: 630 - \n",
      "Route ID: 1_100337, Name: 975 - \n",
      "Route ID: 1_100459, Name: 218 - \n",
      "Route ID: 1_102636, Name: 631 - \n",
      "Route ID: 1_100219, Name: 4 - \n",
      "Route ID: 1_100292, Name: 903 - \n",
      "Route ID: 1_100173, Name: 3 - \n",
      "Route ID: 1_102593, Name: 906 - \n",
      "Route ID: 1_100297, Name: 914 - \n",
      "Route ID: 1_100177, Name: 303 - \n",
      "Route ID: 1_100210, Name: 36 - \n",
      "Route ID: 1_100290, Name: 901 - \n",
      "Route ID: 1_100223, Name: 43 - \n",
      "Route ID: 1_100344, Name: 986 - \n",
      "Route ID: 1_100224, Name: 44 - \n",
      "Route ID: 1_100345, Name: 987 - \n",
      "Route ID: 1_100104, Name: 212 - \n",
      "Route ID: 1_100225, Name: 45 - \n",
      "Route ID: 1_100346, Name: 988 - \n",
      "Route ID: 1_102646, Name: Trailhead Direct Issaquah Alps - \n",
      "Route ID: 1_100347, Name: 989 - \n",
      "Route ID: 1_100228, Name: 48 - \n",
      "Route ID: 1_102647, Name: 635 - \n",
      "Route ID: 1_100229, Name: 5 - \n",
      "Route ID: 1_100062, Name: 17 - \n",
      "Route ID: 1_100184, Name: 31 - \n",
      "Route ID: 1_100186, Name: 311 - \n",
      "Route ID: 1_100341, Name: 982 - \n",
      "Route ID: 1_100068, Name: 177 - \n",
      "Route ID: 1_100101, Name: 21 - \n",
      "Route ID: 1_100060, Name: 168 - \n",
      "Route ID: 1_102619, Name: F Line - \n",
      "Route ID: 1_102699, Name: Valley Shuttle - \n",
      "Route ID: 1_102732, Name: 79 - \n",
      "Route ID: 1_102698, Name: Duvall-Monroe Shuttle - \n",
      "Route ID: 1_100039, Name: 14 - \n",
      "Route ID: 1_102615, Name: E Line - \n",
      "Route ID: 1_102736, Name: H Line - \n",
      "Route ID: 1_100030, Name: 131 - \n",
      "Route ID: 1_100272, Name: 773 - \n",
      "Route ID: 1_100031, Name: 132 - \n",
      "Route ID: 1_102574, Name: 40 - \n",
      "Route ID: 1_100275, Name: 8 - \n",
      "Route ID: 1_102576, Name: C Line - \n",
      "Route ID: 1_100289, Name: 9 - \n",
      "Route ID: 1_100048, Name: 153 - \n",
      "Route ID: 1_100169, Name: 28 - \n",
      "Route ID: 1_100202, Name: 345 - \n",
      "Route ID: 1_100203, Name: 346 - \n",
      "Route ID: 1_102745, Name: G Line - \n",
      "Route ID: 1_102744, Name: 365 - \n",
      "Route ID: 1_100205, Name: 348 - \n",
      "Route ID: 1_100447, Name: 49 - \n",
      "Route ID: 1_102747, Name: 61 - \n",
      "Route ID: 1_102746, Name: 333 - \n",
      "Route ID: 1_102628, Name: 895 - \n",
      "Route ID: 1_100160, Name: 269 - \n",
      "Route ID: 1_102581, Name: D Line - \n",
      "Route ID: 1_100161, Name: 27 - \n",
      "Route ID: 1_100162, Name: 271 - \n",
      "Route ID: 1_100042, Name: 148 - \n",
      "Route ID: 1_100045, Name: 150 - \n"
     ]
    }
   ],
   "source": [
    "response = get_agency_info('1')\n",
    "if response:\n",
    "    routes_data = response['data']['list']\n",
    "    print(f\"Number of Routes: {len(routes_data)}\")\n",
    "    for route in routes_data:\n",
    "        print(f\"Route ID: {route['id']}, Name: {route['shortName']} - {route['longName']}\")\n",
    "else:\n",
    "    print(\"Failed to retrieve data from the API.\")"
   ]
  },
  {
   "cell_type": "code",
   "execution_count": 13,
   "id": "6a97d674",
   "metadata": {},
   "outputs": [
    {
     "name": "stdout",
     "output_type": "stream",
     "text": [
      "status code: 200\n",
      "Number of Routes: 2\n",
      "Route ID: 23_100340, Name: South Lake Union Streetcar - \n",
      "Route ID: 23_102638, Name: First Hill Streetcar - \n"
     ]
    }
   ],
   "source": [
    "response = get_agency_info('23')\n",
    "if response:\n",
    "    routes_data = response['data']['list']\n",
    "    print(f\"Number of Routes: {len(routes_data)}\")\n",
    "    for route in routes_data:\n",
    "        print(f\"Route ID: {route['id']}, Name: {route['shortName']} - {route['longName']}\")\n",
    "else:\n",
    "    print(\"Failed to retrieve data from the API.\")"
   ]
  },
  {
   "cell_type": "code",
   "execution_count": 14,
   "id": "22665508",
   "metadata": {},
   "outputs": [
    {
     "name": "stdout",
     "output_type": "stream",
     "text": [
      "status code: 200\n",
      "Number of Routes: 7\n",
      "Route ID: 40_100232, Name: 522 - \n",
      "Route ID: 40_100236, Name: 545 - \n",
      "Route ID: 40_100511, Name: 542 - \n",
      "Route ID: 40_100240, Name: 554 - \n",
      "Route ID: 40_100239, Name: 550 - \n",
      "Route ID: 40_100451, Name: 556 - \n",
      "Route ID: 40_102734, Name: 566 - \n"
     ]
    }
   ],
   "source": [
    "response = get_agency_info('40')\n",
    "if response:\n",
    "    routes_data = response['data']['list']\n",
    "    print(f\"Number of Routes: {len(routes_data)}\")\n",
    "    for route in routes_data:\n",
    "        print(f\"Route ID: {route['id']}, Name: {route['shortName']} - {route['longName']}\")\n",
    "else:\n",
    "    print(\"Failed to retrieve data from the API.\")"
   ]
  },
  {
   "cell_type": "code",
   "execution_count": 16,
   "id": "b72a9188",
   "metadata": {},
   "outputs": [
    {
     "name": "stdout",
     "output_type": "stream",
     "text": [
      "status code: 200\n",
      "None\n",
      "Failed to retrieve data from the API.\n"
     ]
    }
   ],
   "source": [
    "response = get_agency_info('41')\n",
    "print(response)\n",
    "if response:\n",
    "    routes_data = response['data']['list']\n",
    "    print(f\"Number of Routes: {len(routes_data)}\")\n",
    "    for route in routes_data:\n",
    "        print(f\"Route ID: {route['id']}, Name: {route['shortName']} - {route['longName']}\")\n",
    "else:\n",
    "    print(\"Failed to retrieve data from the API.\")"
   ]
  }
 ],
 "metadata": {
  "kernelspec": {
   "display_name": ".venv",
   "language": "python",
   "name": "python3"
  },
  "language_info": {
   "codemirror_mode": {
    "name": "ipython",
    "version": 3
   },
   "file_extension": ".py",
   "mimetype": "text/x-python",
   "name": "python",
   "nbconvert_exporter": "python",
   "pygments_lexer": "ipython3",
   "version": "3.10.12"
  }
 },
 "nbformat": 4,
 "nbformat_minor": 5
}
