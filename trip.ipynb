{
 "cells": [
  {
   "cell_type": "code",
   "execution_count": 1,
   "metadata": {},
   "outputs": [
    {
     "name": "stdout",
     "output_type": "stream",
     "text": [
      "   route_id  service_id    trip_id                       trip_headsign  \\\n",
      "0    100133       86832  347468088             Bellevue Transit Center   \n",
      "1    102548       23519  347619778  Bellevue Transit Center Crossroads   \n",
      "2    102548       23519  347619868  Bellevue Transit Center Crossroads   \n",
      "3    102548       23519  347619998  Bellevue Transit Center Crossroads   \n",
      "4    102548       23519  347620378  Bellevue Transit Center Crossroads   \n",
      "\n",
      "                    tts_trip_headsign  trip_short_name  direction_id  \\\n",
      "0             bellevue transit center              NaN             0   \n",
      "1  bellevue transit center crossroads              NaN             1   \n",
      "2  bellevue transit center crossroads              NaN             1   \n",
      "3  bellevue transit center crossroads              NaN             1   \n",
      "4  bellevue transit center crossroads              NaN             1   \n",
      "\n",
      "   block_id  shape_id  peak_flag  fare_id  wheelchair_accessible  \\\n",
      "0   7633168  11240002          0      101                      1   \n",
      "1   7633564  30672005          0      101                      1   \n",
      "2   7633565  30672005          0      101                      1   \n",
      "3   7633576  30672005          0      101                      1   \n",
      "4   7633578  30672005          0      101                      1   \n",
      "\n",
      "   bikes_allowed  \n",
      "0              1  \n",
      "1              1  \n",
      "2              1  \n",
      "3              1  \n",
      "4              1  \n"
     ]
    }
   ],
   "source": [
    "import pandas as pd\n",
    "\n",
    "trips = pd.read_csv(\"data/trips.txt\")\n",
    "calendar = pd.read_csv(\"data/calendar.txt\")\n",
    "stoptimes = pd.read_csv(\"data/stop_times.txt\")\n",
    "calendar_dates = pd.read_csv(\"data/calendar_dates.txt\")\n",
    "stops = pd.read_csv(\"data/stops.txt\")\n",
    "print(trips.head())\n",
    "\n",
    "# format date columns\n",
    "calendar['start_date'] = pd.to_datetime(calendar['start_date'], format='%Y%m%d')\n",
    "calendar['end_date'] = pd.to_datetime(calendar['end_date'], format='%Y%m%d')\n",
    "calendar_dates['date'] = pd.to_datetime(calendar_dates['date'], format='%Y%m%d')    "
   ]
  },
  {
   "cell_type": "code",
   "execution_count": null,
   "metadata": {},
   "outputs": [],
   "source": []
  },
  {
   "cell_type": "code",
   "execution_count": null,
   "metadata": {},
   "outputs": [],
   "source": []
  },
  {
   "cell_type": "code",
   "execution_count": 2,
   "metadata": {},
   "outputs": [],
   "source": [
    "def getActiveDaysForTrip(trip_id):\n",
    "    trip = trips[trips['trip_id'] == trip_id]\n",
    "    service_id = trip['service_id'].values[0]\n",
    "    print(f\"Service ID for trip {trip_id} is {service_id}\")\n",
    "    \n",
    "    calendar_service = calendar[calendar['service_id'] == service_id]\n",
    "    # map to monday, tuesday, etc.\n",
    "    active_days = []\n",
    "    for day, active in zip(['Monday', 'Tuesday', 'Wednesday', 'Thursday', 'Friday', 'Saturday', 'Sunday'], \n",
    "                           calendar_service[['monday', 'tuesday', 'wednesday', 'thursday', 'friday', 'saturday', 'sunday']].values[0]):\n",
    "        if active:\n",
    "            active_days.append(day)\n",
    "    \n",
    "    # add dates from calendar_dates\n",
    "    return {\"days\": active_days,\n",
    "            'start_date': calendar_service['start_date'].values[0],\n",
    "            'end_date': calendar_service['end_date'].values[0],\n",
    "            'service_id': service_id,\n",
    "            }"
   ]
  },
  {
   "cell_type": "code",
   "execution_count": 3,
   "metadata": {},
   "outputs": [],
   "source": [
    "def getTripsForBlock(block_id):\n",
    "    block_trips = trips[trips['block_id'] == block_id]\n",
    "    return block_trips"
   ]
  },
  {
   "cell_type": "code",
   "execution_count": 4,
   "metadata": {},
   "outputs": [],
   "source": [
    "def getTripIdsForBlock(block_id):\n",
    "    block_trips = getTripsForBlock(block_id)\n",
    "    return block_trips['trip_id'].tolist()"
   ]
  },
  {
   "cell_type": "code",
   "execution_count": 5,
   "metadata": {},
   "outputs": [],
   "source": [
    "def getExceptionsForService(service_id):\n",
    "    # store in a set with map to dict type 1 and 2\n",
    "    # 1 for added service, 2 for removed service\n",
    "    calendar_dates['exception_type'] = calendar_dates['exception_type'].astype(int)\n",
    "    exceptions = calendar_dates[calendar_dates['service_id'] == service_id]\n",
    "    exceptions_dict = {}\n",
    "    for _, row in exceptions.iterrows():\n",
    "        date = row['date']\n",
    "        if date not in exceptions_dict:\n",
    "            exceptions_dict[date] = row['exception_type']\n",
    "        else:\n",
    "            # if already exists, we can only have one exception type per date\n",
    "            # so we can ignore this case or raise an error\n",
    "            pass\n",
    "    return exceptions_dict"
   ]
  },
  {
   "cell_type": "code",
   "execution_count": 6,
   "metadata": {},
   "outputs": [],
   "source": [
    "def isTripActiveOnDate(trip_id, date):\n",
    "    trip = trips[trips['trip_id'] == trip_id]\n",
    "    service_id = trip['service_id'].values[0]\n",
    "    \n",
    "    # check if date is in calendar\n",
    "    calendar_service = calendar[calendar['service_id'] == service_id]\n",
    "    if date < calendar_service['start_date'].values[0] or date > calendar_service['end_date'].values[0]:\n",
    "        return False\n",
    "    \n",
    "    # check if day of week is active\n",
    "    day_of_week = date.day_name()\n",
    "    if day_of_week not in getActiveDaysForTrip(trip_id)['days']:\n",
    "        return False\n",
    "    \n",
    "    # check if there are any exceptions for this date\n",
    "    exceptions = getExceptionsForService(service_id)\n",
    "    if date in exceptions:\n",
    "        if exceptions[date] == 2:  # removed service\n",
    "            return False\n",
    "    \n",
    "    return True\n"
   ]
  },
  {
   "cell_type": "code",
   "execution_count": 7,
   "metadata": {},
   "outputs": [],
   "source": [
    "tripScheduleCount = stoptimes.groupby('trip_id').size().reset_index(name='count')"
   ]
  },
  {
   "cell_type": "code",
   "execution_count": 8,
   "metadata": {},
   "outputs": [
    {
     "data": {
      "text/html": [
       "<div>\n",
       "<style scoped>\n",
       "    .dataframe tbody tr th:only-of-type {\n",
       "        vertical-align: middle;\n",
       "    }\n",
       "\n",
       "    .dataframe tbody tr th {\n",
       "        vertical-align: top;\n",
       "    }\n",
       "\n",
       "    .dataframe thead th {\n",
       "        text-align: right;\n",
       "    }\n",
       "</style>\n",
       "<table border=\"1\" class=\"dataframe\">\n",
       "  <thead>\n",
       "    <tr style=\"text-align: right;\">\n",
       "      <th></th>\n",
       "      <th>trip_id</th>\n",
       "      <th>count</th>\n",
       "    </tr>\n",
       "  </thead>\n",
       "  <tbody>\n",
       "    <tr>\n",
       "      <th>13483</th>\n",
       "      <td>669642098</td>\n",
       "      <td>6</td>\n",
       "    </tr>\n",
       "    <tr>\n",
       "      <th>20038</th>\n",
       "      <td>694538678</td>\n",
       "      <td>6</td>\n",
       "    </tr>\n",
       "    <tr>\n",
       "      <th>29591</th>\n",
       "      <td>765831658</td>\n",
       "      <td>6</td>\n",
       "    </tr>\n",
       "    <tr>\n",
       "      <th>29594</th>\n",
       "      <td>765831688</td>\n",
       "      <td>6</td>\n",
       "    </tr>\n",
       "    <tr>\n",
       "      <th>29597</th>\n",
       "      <td>765831718</td>\n",
       "      <td>6</td>\n",
       "    </tr>\n",
       "    <tr>\n",
       "      <th>29598</th>\n",
       "      <td>765831728</td>\n",
       "      <td>6</td>\n",
       "    </tr>\n",
       "    <tr>\n",
       "      <th>29610</th>\n",
       "      <td>765831848</td>\n",
       "      <td>6</td>\n",
       "    </tr>\n",
       "    <tr>\n",
       "      <th>29613</th>\n",
       "      <td>765831878</td>\n",
       "      <td>6</td>\n",
       "    </tr>\n",
       "    <tr>\n",
       "      <th>29630</th>\n",
       "      <td>765843508</td>\n",
       "      <td>6</td>\n",
       "    </tr>\n",
       "    <tr>\n",
       "      <th>29635</th>\n",
       "      <td>765843558</td>\n",
       "      <td>6</td>\n",
       "    </tr>\n",
       "    <tr>\n",
       "      <th>29636</th>\n",
       "      <td>765843568</td>\n",
       "      <td>6</td>\n",
       "    </tr>\n",
       "    <tr>\n",
       "      <th>29647</th>\n",
       "      <td>765843678</td>\n",
       "      <td>6</td>\n",
       "    </tr>\n",
       "    <tr>\n",
       "      <th>29651</th>\n",
       "      <td>765843718</td>\n",
       "      <td>6</td>\n",
       "    </tr>\n",
       "    <tr>\n",
       "      <th>29662</th>\n",
       "      <td>765843828</td>\n",
       "      <td>6</td>\n",
       "    </tr>\n",
       "    <tr>\n",
       "      <th>29699</th>\n",
       "      <td>765892568</td>\n",
       "      <td>6</td>\n",
       "    </tr>\n",
       "    <tr>\n",
       "      <th>29701</th>\n",
       "      <td>765892588</td>\n",
       "      <td>6</td>\n",
       "    </tr>\n",
       "    <tr>\n",
       "      <th>29704</th>\n",
       "      <td>765892618</td>\n",
       "      <td>6</td>\n",
       "    </tr>\n",
       "    <tr>\n",
       "      <th>29719</th>\n",
       "      <td>765892768</td>\n",
       "      <td>6</td>\n",
       "    </tr>\n",
       "    <tr>\n",
       "      <th>29724</th>\n",
       "      <td>765892818</td>\n",
       "      <td>6</td>\n",
       "    </tr>\n",
       "    <tr>\n",
       "      <th>29739</th>\n",
       "      <td>765892968</td>\n",
       "      <td>6</td>\n",
       "    </tr>\n",
       "    <tr>\n",
       "      <th>29760</th>\n",
       "      <td>765895018</td>\n",
       "      <td>6</td>\n",
       "    </tr>\n",
       "    <tr>\n",
       "      <th>29762</th>\n",
       "      <td>765895038</td>\n",
       "      <td>6</td>\n",
       "    </tr>\n",
       "    <tr>\n",
       "      <th>29765</th>\n",
       "      <td>765895068</td>\n",
       "      <td>6</td>\n",
       "    </tr>\n",
       "    <tr>\n",
       "      <th>29780</th>\n",
       "      <td>765895218</td>\n",
       "      <td>6</td>\n",
       "    </tr>\n",
       "    <tr>\n",
       "      <th>29785</th>\n",
       "      <td>765895268</td>\n",
       "      <td>6</td>\n",
       "    </tr>\n",
       "    <tr>\n",
       "      <th>29800</th>\n",
       "      <td>765895418</td>\n",
       "      <td>6</td>\n",
       "    </tr>\n",
       "  </tbody>\n",
       "</table>\n",
       "</div>"
      ],
      "text/plain": [
       "         trip_id  count\n",
       "13483  669642098      6\n",
       "20038  694538678      6\n",
       "29591  765831658      6\n",
       "29594  765831688      6\n",
       "29597  765831718      6\n",
       "29598  765831728      6\n",
       "29610  765831848      6\n",
       "29613  765831878      6\n",
       "29630  765843508      6\n",
       "29635  765843558      6\n",
       "29636  765843568      6\n",
       "29647  765843678      6\n",
       "29651  765843718      6\n",
       "29662  765843828      6\n",
       "29699  765892568      6\n",
       "29701  765892588      6\n",
       "29704  765892618      6\n",
       "29719  765892768      6\n",
       "29724  765892818      6\n",
       "29739  765892968      6\n",
       "29760  765895018      6\n",
       "29762  765895038      6\n",
       "29765  765895068      6\n",
       "29780  765895218      6\n",
       "29785  765895268      6\n",
       "29800  765895418      6"
      ]
     },
     "execution_count": 8,
     "metadata": {},
     "output_type": "execute_result"
    }
   ],
   "source": [
    "tripScheduleCount[tripScheduleCount['count'] == 6]"
   ]
  },
  {
   "cell_type": "code",
   "execution_count": 9,
   "metadata": {},
   "outputs": [],
   "source": [
    "def getTrip(trip_id):\n",
    "    trip = trips[trips['trip_id'] == trip_id]\n",
    "    if trip.empty:\n",
    "        return None\n",
    "    return trip.iloc[0]"
   ]
  },
  {
   "cell_type": "code",
   "execution_count": 10,
   "metadata": {},
   "outputs": [],
   "source": [
    "# lets get trips\n",
    "def getSchedule(trip_id):\n",
    "    return stoptimes[stoptimes['trip_id'] == trip_id].sort_values(by='stop_sequence')\n"
   ]
  },
  {
   "cell_type": "code",
   "execution_count": 11,
   "metadata": {},
   "outputs": [],
   "source": [
    "def getServiceID(tripid):\n",
    "    trip = trips[trips['trip_id'] == tripid]\n",
    "    if trip is None:\n",
    "        return None\n",
    "    return trip['service_id'].values[0]"
   ]
  },
  {
   "cell_type": "code",
   "execution_count": 12,
   "metadata": {},
   "outputs": [],
   "source": [
    "def getCompleteBlockSchedule(block_id):\n",
    "    trip_ids = getTripIdsForBlock(block_id)\n",
    "    block_schedule = []\n",
    "    for trip_id in trip_ids:\n",
    "        schedule = getSchedule(trip_id)\n",
    "        block_schedule.append(schedule)\n",
    "    return pd.concat(block_schedule).sort_values(by='arrival_time').reset_index(drop=True)"
   ]
  },
  {
   "cell_type": "code",
   "execution_count": 13,
   "metadata": {},
   "outputs": [],
   "source": [
    "def getServiceIdsForBlock(block_id):\n",
    "    trips = getTripsForBlock(block_id)\n",
    "    # return trip ids and service ids\n",
    "    return trips[['trip_id', 'service_id']]"
   ]
  },
  {
   "cell_type": "code",
   "execution_count": 14,
   "metadata": {},
   "outputs": [
    {
     "name": "stdout",
     "output_type": "stream",
     "text": [
      "           trip_id arrival_time departure_time  stop_id  stop_sequence  \\\n",
      "1037236  765895068     16:42:00       16:42:00    64592              1   \n",
      "1037237  765895068     16:49:00       16:49:00    64476            140   \n",
      "1037238  765895068     17:00:00       17:00:00    64477            286   \n",
      "1037239  765895068     17:07:00       17:07:00    64478            477   \n",
      "1037240  765895068     17:11:28       17:11:28    64484            535   \n",
      "1037241  765895068     17:15:00       17:15:00    65140            590   \n",
      "\n",
      "                      stop_headsign  pickup_type  drop_off_type  \\\n",
      "1037236                         NaN            0              0   \n",
      "1037237                         NaN            0              0   \n",
      "1037238                         NaN            0              0   \n",
      "1037239                         NaN            0              0   \n",
      "1037240                         NaN            0              0   \n",
      "1037241  Mount Baker Transit Center            0              0   \n",
      "\n",
      "         shape_dist_traveled  timepoint  \n",
      "1037236                  0.0          1  \n",
      "1037237              16004.0          1  \n",
      "1037238              33802.7          1  \n",
      "1037239              48426.5          1  \n",
      "1037240              55825.7          0  \n",
      "1037241              61676.0          1  \n"
     ]
    }
   ],
   "source": [
    "print(getSchedule(765895068))\n"
   ]
  },
  {
   "cell_type": "markdown",
   "metadata": {},
   "source": [
    "{\n",
    "    st1{\n",
    "        arrival 1751672580 4:43\n",
    "        departure 1751672580 4:43\n",
    "        stop id 64592\n",
    "    }\n",
    "    crnt 4:44\n",
    "    st2{\n",
    "        arrival 1751673300 4:45\n",
    "        departure 1751673300 4:45\n",
    "        stop id 64476            \n",
    "    }\n",
    "    st2{\n",
    "        arrival 1751673900 5:05\n",
    "        departure 1751673900 5:05\n",
    "        stop id 64592\n",
    "    }\n",
    "\n",
    "    delay 30\n",
    "}"
   ]
  },
  {
   "cell_type": "code",
   "execution_count": 15,
   "metadata": {},
   "outputs": [
    {
     "name": "stdout",
     "output_type": "stream",
     "text": [
      "Service ID for trip 765895068 is 789\n",
      "{'days': ['Friday'], 'start_date': np.datetime64('2025-07-04T00:00:00.000000000'), 'end_date': np.datetime64('2025-07-04T00:00:00.000000000'), 'service_id': np.int64(789)}\n"
     ]
    }
   ],
   "source": [
    "#  get service days \n",
    "print(getActiveDaysForTrip(765895068))"
   ]
  },
  {
   "cell_type": "code",
   "execution_count": 16,
   "metadata": {},
   "outputs": [
    {
     "name": "stdout",
     "output_type": "stream",
     "text": [
      "{}\n"
     ]
    }
   ],
   "source": [
    "print(getExceptionsForService(789))"
   ]
  },
  {
   "cell_type": "code",
   "execution_count": 17,
   "metadata": {},
   "outputs": [
    {
     "name": "stdout",
     "output_type": "stream",
     "text": [
      "route_id                        102646\n",
      "service_id                         789\n",
      "trip_id                      765895068\n",
      "trip_headsign            Issaquah Alps\n",
      "tts_trip_headsign        Issaquah Alps\n",
      "trip_short_name                    NaN\n",
      "direction_id                         0\n",
      "block_id                       7660204\n",
      "shape_id                      41634002\n",
      "peak_flag                            0\n",
      "fare_id                            101\n",
      "wheelchair_accessible                1\n",
      "bikes_allowed                        1\n",
      "Name: 27563, dtype: object\n"
     ]
    }
   ],
   "source": [
    "print(getTrip(765895068))"
   ]
  },
  {
   "cell_type": "code",
   "execution_count": 18,
   "metadata": {},
   "outputs": [
    {
     "name": "stdout",
     "output_type": "stream",
     "text": [
      "[765895128, 765895158, 765895118, 765895068, 765895098, 765895178, 765895318, 765895348, 765895468]\n"
     ]
    }
   ],
   "source": [
    "print(getTripIdsForBlock(7660204))"
   ]
  },
  {
   "cell_type": "code",
   "execution_count": 19,
   "metadata": {},
   "outputs": [
    {
     "data": {
      "text/html": [
       "<div>\n",
       "<style scoped>\n",
       "    .dataframe tbody tr th:only-of-type {\n",
       "        vertical-align: middle;\n",
       "    }\n",
       "\n",
       "    .dataframe tbody tr th {\n",
       "        vertical-align: top;\n",
       "    }\n",
       "\n",
       "    .dataframe thead th {\n",
       "        text-align: right;\n",
       "    }\n",
       "</style>\n",
       "<table border=\"1\" class=\"dataframe\">\n",
       "  <thead>\n",
       "    <tr style=\"text-align: right;\">\n",
       "      <th></th>\n",
       "      <th>stop_id</th>\n",
       "      <th>stop_code</th>\n",
       "      <th>stop_name</th>\n",
       "      <th>tts_stop_name</th>\n",
       "      <th>stop_desc</th>\n",
       "      <th>stop_lat</th>\n",
       "      <th>stop_lon</th>\n",
       "      <th>zone_id</th>\n",
       "      <th>stop_url</th>\n",
       "      <th>location_type</th>\n",
       "      <th>parent_station</th>\n",
       "      <th>stop_timezone</th>\n",
       "      <th>wheelchair_boarding</th>\n",
       "    </tr>\n",
       "  </thead>\n",
       "  <tbody>\n",
       "    <tr>\n",
       "      <th>4400</th>\n",
       "      <td>64592</td>\n",
       "      <td>64592</td>\n",
       "      <td>Issaquah Transit Center - Bay 5</td>\n",
       "      <td>Issaquah Transit Center Bay Five</td>\n",
       "      <td>NaN</td>\n",
       "      <td>47.542248</td>\n",
       "      <td>-122.062225</td>\n",
       "      <td>19</td>\n",
       "      <td>NaN</td>\n",
       "      <td>0</td>\n",
       "      <td>NaN</td>\n",
       "      <td>America/Los_Angeles</td>\n",
       "      <td>1</td>\n",
       "    </tr>\n",
       "  </tbody>\n",
       "</table>\n",
       "</div>"
      ],
      "text/plain": [
       "      stop_id  stop_code                        stop_name  \\\n",
       "4400    64592      64592  Issaquah Transit Center - Bay 5   \n",
       "\n",
       "                         tts_stop_name  stop_desc   stop_lat    stop_lon  \\\n",
       "4400  Issaquah Transit Center Bay Five        NaN  47.542248 -122.062225   \n",
       "\n",
       "      zone_id  stop_url  location_type  parent_station        stop_timezone  \\\n",
       "4400       19       NaN              0             NaN  America/Los_Angeles   \n",
       "\n",
       "      wheelchair_boarding  \n",
       "4400                    1  "
      ]
     },
     "execution_count": 19,
     "metadata": {},
     "output_type": "execute_result"
    }
   ],
   "source": [
    "stops[stops['stop_id'] == 64592]"
   ]
  },
  {
   "cell_type": "code",
   "execution_count": 20,
   "metadata": {},
   "outputs": [],
   "source": [
    "# dont skip , print whole text\n",
    "schedule = getCompleteBlockSchedule(7660204)\n",
    "schedule.to_csv(\"complete_block_schedule.csv\", index=False)"
   ]
  },
  {
   "cell_type": "code",
   "execution_count": 21,
   "metadata": {},
   "outputs": [
    {
     "name": "stdout",
     "output_type": "stream",
     "text": [
      "         trip_id  service_id\n",
      "25938  765895128         789\n",
      "25939  765895158         789\n",
      "26471  765895118         789\n",
      "27563  765895068         789\n",
      "27577  765895098         789\n",
      "27579  765895178         789\n",
      "27580  765895318         789\n",
      "27767  765895348         789\n",
      "29811  765895468         789\n"
     ]
    }
   ],
   "source": [
    "print(getServiceIdsForBlock(7660204))"
   ]
  },
  {
   "cell_type": "code",
   "execution_count": 22,
   "metadata": {},
   "outputs": [],
   "source": [
    "# make blocks\n",
    "def getTripsSequenceForBlock(block_id , service_id):\n",
    "    trips = getTripsForBlock(block_id)\n",
    "    print(trips.columns)\n",
    "    # lets see how many service ids are there\n",
    "    print(trips['service_id'].unique())\n",
    "    trips = trips[trips['service_id'] == service_id]\n",
    "    trip_sequence = []\n",
    "    for _, trip in trips.iterrows():\n",
    "        trip_schedule = getSchedule(trip['trip_id'])\n",
    "        trip_sequence.append(trip_schedule)\n",
    "    return pd.concat(trip_sequence).sort_values(by='arrival_time').reset_index(drop=True)"
   ]
  },
  {
   "cell_type": "code",
   "execution_count": 23,
   "metadata": {},
   "outputs": [
    {
     "name": "stdout",
     "output_type": "stream",
     "text": [
      "Index(['route_id', 'service_id', 'trip_id', 'trip_headsign',\n",
      "       'tts_trip_headsign', 'trip_short_name', 'direction_id', 'block_id',\n",
      "       'shape_id', 'peak_flag', 'fare_id', 'wheelchair_accessible',\n",
      "       'bikes_allowed'],\n",
      "      dtype='object')\n",
      "[789]\n"
     ]
    }
   ],
   "source": [
    "getTripsSequenceForBlock(7660204 , 789).sort_values(by=\"arrival_time\").reset_index(drop=True).to_csv(\"trips_sequence_for_block7660204.csv\", index=False)"
   ]
  },
  {
   "cell_type": "code",
   "execution_count": 24,
   "metadata": {},
   "outputs": [
    {
     "data": {
      "text/html": [
       "<div>\n",
       "<style scoped>\n",
       "    .dataframe tbody tr th:only-of-type {\n",
       "        vertical-align: middle;\n",
       "    }\n",
       "\n",
       "    .dataframe tbody tr th {\n",
       "        vertical-align: top;\n",
       "    }\n",
       "\n",
       "    .dataframe thead th {\n",
       "        text-align: right;\n",
       "    }\n",
       "</style>\n",
       "<table border=\"1\" class=\"dataframe\">\n",
       "  <thead>\n",
       "    <tr style=\"text-align: right;\">\n",
       "      <th></th>\n",
       "      <th>route_id</th>\n",
       "      <th>service_id</th>\n",
       "      <th>trip_id</th>\n",
       "      <th>trip_headsign</th>\n",
       "      <th>tts_trip_headsign</th>\n",
       "      <th>trip_short_name</th>\n",
       "      <th>direction_id</th>\n",
       "      <th>block_id</th>\n",
       "      <th>shape_id</th>\n",
       "      <th>peak_flag</th>\n",
       "      <th>fare_id</th>\n",
       "      <th>wheelchair_accessible</th>\n",
       "      <th>bikes_allowed</th>\n",
       "    </tr>\n",
       "  </thead>\n",
       "  <tbody>\n",
       "    <tr>\n",
       "      <th>25283</th>\n",
       "      <td>100336</td>\n",
       "      <td>789</td>\n",
       "      <td>762848898</td>\n",
       "      <td>Downtown Seattle Water Taxi</td>\n",
       "      <td>Downtown Seattle Water Taxi</td>\n",
       "      <td>NaN</td>\n",
       "      <td>1</td>\n",
       "      <td>7653694</td>\n",
       "      <td>40973001</td>\n",
       "      <td>0</td>\n",
       "      <td>700</td>\n",
       "      <td>1</td>\n",
       "      <td>1</td>\n",
       "    </tr>\n",
       "    <tr>\n",
       "      <th>25284</th>\n",
       "      <td>100336</td>\n",
       "      <td>789</td>\n",
       "      <td>762848968</td>\n",
       "      <td>West Seattle Water Taxi</td>\n",
       "      <td>West Seattle Water Taxi</td>\n",
       "      <td>NaN</td>\n",
       "      <td>0</td>\n",
       "      <td>7653694</td>\n",
       "      <td>31973002</td>\n",
       "      <td>0</td>\n",
       "      <td>700</td>\n",
       "      <td>1</td>\n",
       "      <td>1</td>\n",
       "    </tr>\n",
       "    <tr>\n",
       "      <th>25285</th>\n",
       "      <td>100336</td>\n",
       "      <td>789</td>\n",
       "      <td>762849028</td>\n",
       "      <td>West Seattle Water Taxi</td>\n",
       "      <td>West Seattle Water Taxi</td>\n",
       "      <td>NaN</td>\n",
       "      <td>0</td>\n",
       "      <td>7653694</td>\n",
       "      <td>31973002</td>\n",
       "      <td>0</td>\n",
       "      <td>700</td>\n",
       "      <td>1</td>\n",
       "      <td>1</td>\n",
       "    </tr>\n",
       "    <tr>\n",
       "      <th>25286</th>\n",
       "      <td>100272</td>\n",
       "      <td>789</td>\n",
       "      <td>762849108</td>\n",
       "      <td>Seacrest Marina</td>\n",
       "      <td>Seacrest Marina</td>\n",
       "      <td>NaN</td>\n",
       "      <td>0</td>\n",
       "      <td>7653695</td>\n",
       "      <td>11773004</td>\n",
       "      <td>0</td>\n",
       "      <td>300</td>\n",
       "      <td>1</td>\n",
       "      <td>1</td>\n",
       "    </tr>\n",
       "    <tr>\n",
       "      <th>25287</th>\n",
       "      <td>100481</td>\n",
       "      <td>789</td>\n",
       "      <td>762849118</td>\n",
       "      <td>Alki</td>\n",
       "      <td>Alkeye</td>\n",
       "      <td>NaN</td>\n",
       "      <td>0</td>\n",
       "      <td>7653695</td>\n",
       "      <td>11775001</td>\n",
       "      <td>0</td>\n",
       "      <td>300</td>\n",
       "      <td>1</td>\n",
       "      <td>1</td>\n",
       "    </tr>\n",
       "    <tr>\n",
       "      <th>...</th>\n",
       "      <td>...</td>\n",
       "      <td>...</td>\n",
       "      <td>...</td>\n",
       "      <td>...</td>\n",
       "      <td>...</td>\n",
       "      <td>...</td>\n",
       "      <td>...</td>\n",
       "      <td>...</td>\n",
       "      <td>...</td>\n",
       "      <td>...</td>\n",
       "      <td>...</td>\n",
       "      <td>...</td>\n",
       "      <td>...</td>\n",
       "    </tr>\n",
       "    <tr>\n",
       "      <th>29807</th>\n",
       "      <td>102646</td>\n",
       "      <td>789</td>\n",
       "      <td>765895038</td>\n",
       "      <td>Issaquah Alps</td>\n",
       "      <td>Issaquah Alps</td>\n",
       "      <td>NaN</td>\n",
       "      <td>0</td>\n",
       "      <td>7660202</td>\n",
       "      <td>41634002</td>\n",
       "      <td>0</td>\n",
       "      <td>101</td>\n",
       "      <td>1</td>\n",
       "      <td>1</td>\n",
       "    </tr>\n",
       "    <tr>\n",
       "      <th>29808</th>\n",
       "      <td>102650</td>\n",
       "      <td>789</td>\n",
       "      <td>765895088</td>\n",
       "      <td>Mount Si/Teneriffe</td>\n",
       "      <td>Mount Sigh slash Teneriffe</td>\n",
       "      <td>NaN</td>\n",
       "      <td>0</td>\n",
       "      <td>7660200</td>\n",
       "      <td>41636007</td>\n",
       "      <td>0</td>\n",
       "      <td>101</td>\n",
       "      <td>1</td>\n",
       "      <td>1</td>\n",
       "    </tr>\n",
       "    <tr>\n",
       "      <th>29809</th>\n",
       "      <td>102646</td>\n",
       "      <td>789</td>\n",
       "      <td>765895288</td>\n",
       "      <td>Issaquah Alps</td>\n",
       "      <td>Issaquah Alps</td>\n",
       "      <td>NaN</td>\n",
       "      <td>0</td>\n",
       "      <td>7660206</td>\n",
       "      <td>41634007</td>\n",
       "      <td>0</td>\n",
       "      <td>101</td>\n",
       "      <td>1</td>\n",
       "      <td>1</td>\n",
       "    </tr>\n",
       "    <tr>\n",
       "      <th>29810</th>\n",
       "      <td>102646</td>\n",
       "      <td>789</td>\n",
       "      <td>765895418</td>\n",
       "      <td>Issaquah Alps</td>\n",
       "      <td>Issaquah Alps</td>\n",
       "      <td>NaN</td>\n",
       "      <td>0</td>\n",
       "      <td>7660208</td>\n",
       "      <td>41634002</td>\n",
       "      <td>0</td>\n",
       "      <td>101</td>\n",
       "      <td>1</td>\n",
       "      <td>1</td>\n",
       "    </tr>\n",
       "    <tr>\n",
       "      <th>29811</th>\n",
       "      <td>102646</td>\n",
       "      <td>789</td>\n",
       "      <td>765895468</td>\n",
       "      <td>Issaquah Alps</td>\n",
       "      <td>Issaquah Alps</td>\n",
       "      <td>NaN</td>\n",
       "      <td>0</td>\n",
       "      <td>7660204</td>\n",
       "      <td>41634007</td>\n",
       "      <td>0</td>\n",
       "      <td>101</td>\n",
       "      <td>1</td>\n",
       "      <td>1</td>\n",
       "    </tr>\n",
       "  </tbody>\n",
       "</table>\n",
       "<p>229 rows × 13 columns</p>\n",
       "</div>"
      ],
      "text/plain": [
       "       route_id  service_id    trip_id                trip_headsign  \\\n",
       "25283    100336         789  762848898  Downtown Seattle Water Taxi   \n",
       "25284    100336         789  762848968      West Seattle Water Taxi   \n",
       "25285    100336         789  762849028      West Seattle Water Taxi   \n",
       "25286    100272         789  762849108              Seacrest Marina   \n",
       "25287    100481         789  762849118                         Alki   \n",
       "...         ...         ...        ...                          ...   \n",
       "29807    102646         789  765895038                Issaquah Alps   \n",
       "29808    102650         789  765895088           Mount Si/Teneriffe   \n",
       "29809    102646         789  765895288                Issaquah Alps   \n",
       "29810    102646         789  765895418                Issaquah Alps   \n",
       "29811    102646         789  765895468                Issaquah Alps   \n",
       "\n",
       "                 tts_trip_headsign  trip_short_name  direction_id  block_id  \\\n",
       "25283  Downtown Seattle Water Taxi              NaN             1   7653694   \n",
       "25284      West Seattle Water Taxi              NaN             0   7653694   \n",
       "25285      West Seattle Water Taxi              NaN             0   7653694   \n",
       "25286              Seacrest Marina              NaN             0   7653695   \n",
       "25287                       Alkeye              NaN             0   7653695   \n",
       "...                            ...              ...           ...       ...   \n",
       "29807                Issaquah Alps              NaN             0   7660202   \n",
       "29808   Mount Sigh slash Teneriffe              NaN             0   7660200   \n",
       "29809                Issaquah Alps              NaN             0   7660206   \n",
       "29810                Issaquah Alps              NaN             0   7660208   \n",
       "29811                Issaquah Alps              NaN             0   7660204   \n",
       "\n",
       "       shape_id  peak_flag  fare_id  wheelchair_accessible  bikes_allowed  \n",
       "25283  40973001          0      700                      1              1  \n",
       "25284  31973002          0      700                      1              1  \n",
       "25285  31973002          0      700                      1              1  \n",
       "25286  11773004          0      300                      1              1  \n",
       "25287  11775001          0      300                      1              1  \n",
       "...         ...        ...      ...                    ...            ...  \n",
       "29807  41634002          0      101                      1              1  \n",
       "29808  41636007          0      101                      1              1  \n",
       "29809  41634007          0      101                      1              1  \n",
       "29810  41634002          0      101                      1              1  \n",
       "29811  41634007          0      101                      1              1  \n",
       "\n",
       "[229 rows x 13 columns]"
      ]
     },
     "execution_count": 24,
     "metadata": {},
     "output_type": "execute_result"
    }
   ],
   "source": [
    "trips = pd.read_csv(\"data/trips.txt\")\n",
    "trips[trips[\"service_id\"] == 789]\n"
   ]
  },
  {
   "cell_type": "code",
   "execution_count": 25,
   "metadata": {},
   "outputs": [],
   "source": [
    "tripsForService789 = trips[trips[\"service_id\"] == 789]\n",
    "trip789b7653694 =  tripsForService789[tripsForService789[\"block_id\"] == 7653694]"
   ]
  },
  {
   "cell_type": "code",
   "execution_count": 26,
   "metadata": {},
   "outputs": [],
   "source": [
    "stoptimes = pd.read_csv(\"data/stop_times.txt\")\n",
    "stopsForReqTrips = stoptimes[stoptimes['trip_id'].isin(trip789b7653694['trip_id'].tolist())]"
   ]
  },
  {
   "cell_type": "code",
   "execution_count": 27,
   "metadata": {},
   "outputs": [],
   "source": [
    "stopsForReqTrips.sort_values(by='arrival_time').to_csv(\"stops_for_req_trips.csv\", index=False)"
   ]
  },
  {
   "cell_type": "code",
   "execution_count": 28,
   "metadata": {},
   "outputs": [
    {
     "data": {
      "text/html": [
       "<div>\n",
       "<style scoped>\n",
       "    .dataframe tbody tr th:only-of-type {\n",
       "        vertical-align: middle;\n",
       "    }\n",
       "\n",
       "    .dataframe tbody tr th {\n",
       "        vertical-align: top;\n",
       "    }\n",
       "\n",
       "    .dataframe thead th {\n",
       "        text-align: right;\n",
       "    }\n",
       "</style>\n",
       "<table border=\"1\" class=\"dataframe\">\n",
       "  <thead>\n",
       "    <tr style=\"text-align: right;\">\n",
       "      <th></th>\n",
       "      <th>route_id</th>\n",
       "      <th>service_id</th>\n",
       "      <th>trip_id</th>\n",
       "      <th>trip_headsign</th>\n",
       "      <th>tts_trip_headsign</th>\n",
       "      <th>trip_short_name</th>\n",
       "      <th>direction_id</th>\n",
       "      <th>block_id</th>\n",
       "      <th>shape_id</th>\n",
       "      <th>peak_flag</th>\n",
       "      <th>fare_id</th>\n",
       "      <th>wheelchair_accessible</th>\n",
       "      <th>bikes_allowed</th>\n",
       "    </tr>\n",
       "  </thead>\n",
       "  <tbody>\n",
       "    <tr>\n",
       "      <th>15029</th>\n",
       "      <td>102736</td>\n",
       "      <td>86832</td>\n",
       "      <td>694056178</td>\n",
       "      <td>Burien Transit Center Westwood Village</td>\n",
       "      <td>burien transit center westwood village</td>\n",
       "      <td>NaN</td>\n",
       "      <td>0</td>\n",
       "      <td>7631599</td>\n",
       "      <td>21678004</td>\n",
       "      <td>0</td>\n",
       "      <td>101</td>\n",
       "      <td>1</td>\n",
       "      <td>1</td>\n",
       "    </tr>\n",
       "  </tbody>\n",
       "</table>\n",
       "</div>"
      ],
      "text/plain": [
       "       route_id  service_id    trip_id  \\\n",
       "15029    102736       86832  694056178   \n",
       "\n",
       "                                trip_headsign  \\\n",
       "15029  Burien Transit Center Westwood Village   \n",
       "\n",
       "                            tts_trip_headsign  trip_short_name  direction_id  \\\n",
       "15029  burien transit center westwood village              NaN             0   \n",
       "\n",
       "       block_id  shape_id  peak_flag  fare_id  wheelchair_accessible  \\\n",
       "15029   7631599  21678004          0      101                      1   \n",
       "\n",
       "       bikes_allowed  \n",
       "15029              1  "
      ]
     },
     "execution_count": 28,
     "metadata": {},
     "output_type": "execute_result"
    }
   ],
   "source": [
    "trips[trips['trip_id'] == 694056178]"
   ]
  },
  {
   "cell_type": "code",
   "execution_count": 29,
   "metadata": {},
   "outputs": [
    {
     "data": {
      "text/html": [
       "<div>\n",
       "<style scoped>\n",
       "    .dataframe tbody tr th:only-of-type {\n",
       "        vertical-align: middle;\n",
       "    }\n",
       "\n",
       "    .dataframe tbody tr th {\n",
       "        vertical-align: top;\n",
       "    }\n",
       "\n",
       "    .dataframe thead th {\n",
       "        text-align: right;\n",
       "    }\n",
       "</style>\n",
       "<table border=\"1\" class=\"dataframe\">\n",
       "  <thead>\n",
       "    <tr style=\"text-align: right;\">\n",
       "      <th></th>\n",
       "      <th>trip_id</th>\n",
       "      <th>service_id</th>\n",
       "    </tr>\n",
       "  </thead>\n",
       "  <tbody>\n",
       "    <tr>\n",
       "      <th>15029</th>\n",
       "      <td>694056178</td>\n",
       "      <td>86832</td>\n",
       "    </tr>\n",
       "    <tr>\n",
       "      <th>15031</th>\n",
       "      <td>694056348</td>\n",
       "      <td>86832</td>\n",
       "    </tr>\n",
       "    <tr>\n",
       "      <th>16337</th>\n",
       "      <td>694056038</td>\n",
       "      <td>86832</td>\n",
       "    </tr>\n",
       "    <tr>\n",
       "      <th>16338</th>\n",
       "      <td>694056048</td>\n",
       "      <td>86832</td>\n",
       "    </tr>\n",
       "    <tr>\n",
       "      <th>16700</th>\n",
       "      <td>694055998</td>\n",
       "      <td>86832</td>\n",
       "    </tr>\n",
       "    <tr>\n",
       "      <th>16873</th>\n",
       "      <td>694056188</td>\n",
       "      <td>86832</td>\n",
       "    </tr>\n",
       "    <tr>\n",
       "      <th>17061</th>\n",
       "      <td>694057118</td>\n",
       "      <td>86832</td>\n",
       "    </tr>\n",
       "    <tr>\n",
       "      <th>17070</th>\n",
       "      <td>694057698</td>\n",
       "      <td>86832</td>\n",
       "    </tr>\n",
       "    <tr>\n",
       "      <th>17352</th>\n",
       "      <td>694055988</td>\n",
       "      <td>86832</td>\n",
       "    </tr>\n",
       "    <tr>\n",
       "      <th>19168</th>\n",
       "      <td>694057048</td>\n",
       "      <td>86832</td>\n",
       "    </tr>\n",
       "    <tr>\n",
       "      <th>19272</th>\n",
       "      <td>694056028</td>\n",
       "      <td>86832</td>\n",
       "    </tr>\n",
       "    <tr>\n",
       "      <th>19281</th>\n",
       "      <td>694057208</td>\n",
       "      <td>86832</td>\n",
       "    </tr>\n",
       "    <tr>\n",
       "      <th>19284</th>\n",
       "      <td>694057418</td>\n",
       "      <td>86832</td>\n",
       "    </tr>\n",
       "    <tr>\n",
       "      <th>19317</th>\n",
       "      <td>694057598</td>\n",
       "      <td>86832</td>\n",
       "    </tr>\n",
       "    <tr>\n",
       "      <th>19478</th>\n",
       "      <td>694056888</td>\n",
       "      <td>86832</td>\n",
       "    </tr>\n",
       "    <tr>\n",
       "      <th>24064</th>\n",
       "      <td>732459508</td>\n",
       "      <td>86832</td>\n",
       "    </tr>\n",
       "    <tr>\n",
       "      <th>25002</th>\n",
       "      <td>732459518</td>\n",
       "      <td>86832</td>\n",
       "    </tr>\n",
       "    <tr>\n",
       "      <th>27798</th>\n",
       "      <td>732459438</td>\n",
       "      <td>86832</td>\n",
       "    </tr>\n",
       "  </tbody>\n",
       "</table>\n",
       "</div>"
      ],
      "text/plain": [
       "         trip_id  service_id\n",
       "15029  694056178       86832\n",
       "15031  694056348       86832\n",
       "16337  694056038       86832\n",
       "16338  694056048       86832\n",
       "16700  694055998       86832\n",
       "16873  694056188       86832\n",
       "17061  694057118       86832\n",
       "17070  694057698       86832\n",
       "17352  694055988       86832\n",
       "19168  694057048       86832\n",
       "19272  694056028       86832\n",
       "19281  694057208       86832\n",
       "19284  694057418       86832\n",
       "19317  694057598       86832\n",
       "19478  694056888       86832\n",
       "24064  732459508       86832\n",
       "25002  732459518       86832\n",
       "27798  732459438       86832"
      ]
     },
     "execution_count": 29,
     "metadata": {},
     "output_type": "execute_result"
    }
   ],
   "source": [
    "getServiceIdsForBlock(7631599)"
   ]
  },
  {
   "cell_type": "code",
   "execution_count": 30,
   "metadata": {},
   "outputs": [],
   "source": [
    "def getServiceInfo(service_id):\n",
    "    service_info = calendar[calendar['service_id'] == service_id]\n",
    "    if service_info.empty:\n",
    "        return None\n",
    "    service_info = service_info.iloc[0]\n",
    "    # get active days\n",
    "    active_days = []\n",
    "    for day, active in zip(['Monday', 'Tuesday', 'Wednesday', 'Thursday', 'Friday', 'Saturday', 'Sunday'], \n",
    "                           service_info[['monday', 'tuesday', 'wednesday', 'thursday', 'friday', 'saturday', 'sunday']].values):\n",
    "        if active:\n",
    "            active_days.append(day) \n",
    "    # get exceptions\n",
    "    exceptions = getExceptionsForService(service_id)\n",
    "    return {\n",
    "        'service_id': service_id,\n",
    "        'start_date': service_info['start_date'],\n",
    "        'end_date': service_info['end_date'],\n",
    "        'active_days': active_days,\n",
    "        'exceptions': exceptions\n",
    "    }"
   ]
  },
  {
   "cell_type": "code",
   "execution_count": 31,
   "metadata": {},
   "outputs": [
    {
     "name": "stdout",
     "output_type": "stream",
     "text": [
      "[694056178, 694056348, 694056038, 694056048, 694055998, 694056188, 694057118, 694057698, 694055988, 694057048, 694056028, 694057208, 694057418, 694057598, 694056888, 732459508, 732459518, 732459438]\n"
     ]
    }
   ],
   "source": [
    "# print(getTripsSequenceForBlock(7631599,86832))\n",
    "print(getTripIdsForBlock(7631599))"
   ]
  },
  {
   "cell_type": "code",
   "execution_count": 32,
   "metadata": {},
   "outputs": [
    {
     "name": "stdout",
     "output_type": "stream",
     "text": [
      "{'service_id': 86832, 'start_date': Timestamp('2025-05-01 00:00:00'), 'end_date': Timestamp('2025-08-29 00:00:00'), 'active_days': ['Tuesday', 'Wednesday', 'Thursday'], 'exceptions': {Timestamp('2025-05-26 00:00:00'): 2, Timestamp('2025-08-04 00:00:00'): 1, Timestamp('2025-08-11 00:00:00'): 1, Timestamp('2025-06-02 00:00:00'): 1, Timestamp('2025-07-28 00:00:00'): 1, Timestamp('2025-05-19 00:00:00'): 1, Timestamp('2025-07-21 00:00:00'): 1, Timestamp('2025-05-12 00:00:00'): 1, Timestamp('2025-07-07 00:00:00'): 1, Timestamp('2025-07-14 00:00:00'): 1, Timestamp('2025-05-05 00:00:00'): 1, Timestamp('2025-06-30 00:00:00'): 1, Timestamp('2025-08-25 00:00:00'): 1, Timestamp('2025-06-16 00:00:00'): 1, Timestamp('2025-06-23 00:00:00'): 1, Timestamp('2025-08-18 00:00:00'): 1, Timestamp('2025-06-09 00:00:00'): 1, Timestamp('2025-07-04 00:00:00'): 2, Timestamp('2025-06-20 00:00:00'): 1, Timestamp('2025-08-15 00:00:00'): 1, Timestamp('2025-06-06 00:00:00'): 1, Timestamp('2025-08-01 00:00:00'): 1, Timestamp('2025-05-23 00:00:00'): 1, Timestamp('2025-08-08 00:00:00'): 1, Timestamp('2025-05-30 00:00:00'): 1, Timestamp('2025-07-25 00:00:00'): 1, Timestamp('2025-05-16 00:00:00'): 1, Timestamp('2025-07-11 00:00:00'): 1, Timestamp('2025-07-18 00:00:00'): 1, Timestamp('2025-05-09 00:00:00'): 1, Timestamp('2025-08-29 00:00:00'): 1, Timestamp('2025-05-02 00:00:00'): 1, Timestamp('2025-06-27 00:00:00'): 1, Timestamp('2025-08-22 00:00:00'): 1, Timestamp('2025-06-13 00:00:00'): 1}}\n"
     ]
    }
   ],
   "source": [
    "print(getServiceInfo(86832))"
   ]
  },
  {
   "cell_type": "code",
   "execution_count": 33,
   "metadata": {},
   "outputs": [],
   "source": [
    "getCompleteBlockSchedule(7631599).to_csv(\"complete_block_schedule_7631599.csv\", index=False)"
   ]
  },
  {
   "cell_type": "code",
   "execution_count": 34,
   "metadata": {},
   "outputs": [
    {
     "data": {
      "text/html": [
       "<div>\n",
       "<style scoped>\n",
       "    .dataframe tbody tr th:only-of-type {\n",
       "        vertical-align: middle;\n",
       "    }\n",
       "\n",
       "    .dataframe tbody tr th {\n",
       "        vertical-align: top;\n",
       "    }\n",
       "\n",
       "    .dataframe thead th {\n",
       "        text-align: right;\n",
       "    }\n",
       "</style>\n",
       "<table border=\"1\" class=\"dataframe\">\n",
       "  <thead>\n",
       "    <tr style=\"text-align: right;\">\n",
       "      <th></th>\n",
       "      <th>route_id</th>\n",
       "      <th>service_id</th>\n",
       "      <th>trip_id</th>\n",
       "      <th>trip_headsign</th>\n",
       "      <th>tts_trip_headsign</th>\n",
       "      <th>trip_short_name</th>\n",
       "      <th>direction_id</th>\n",
       "      <th>block_id</th>\n",
       "      <th>shape_id</th>\n",
       "      <th>peak_flag</th>\n",
       "      <th>fare_id</th>\n",
       "      <th>wheelchair_accessible</th>\n",
       "      <th>bikes_allowed</th>\n",
       "    </tr>\n",
       "  </thead>\n",
       "  <tbody>\n",
       "    <tr>\n",
       "      <th>19061</th>\n",
       "      <td>100202</td>\n",
       "      <td>17361</td>\n",
       "      <td>694608358</td>\n",
       "      <td>Northgate Station NW Hospital</td>\n",
       "      <td>northgate station northwest hospital</td>\n",
       "      <td>NaN</td>\n",
       "      <td>1</td>\n",
       "      <td>7633720</td>\n",
       "      <td>20345002</td>\n",
       "      <td>0</td>\n",
       "      <td>101</td>\n",
       "      <td>1</td>\n",
       "      <td>1</td>\n",
       "    </tr>\n",
       "  </tbody>\n",
       "</table>\n",
       "</div>"
      ],
      "text/plain": [
       "       route_id  service_id    trip_id                  trip_headsign  \\\n",
       "19061    100202       17361  694608358  Northgate Station NW Hospital   \n",
       "\n",
       "                          tts_trip_headsign  trip_short_name  direction_id  \\\n",
       "19061  northgate station northwest hospital              NaN             1   \n",
       "\n",
       "       block_id  shape_id  peak_flag  fare_id  wheelchair_accessible  \\\n",
       "19061   7633720  20345002          0      101                      1   \n",
       "\n",
       "       bikes_allowed  \n",
       "19061              1  "
      ]
     },
     "execution_count": 34,
     "metadata": {},
     "output_type": "execute_result"
    }
   ],
   "source": [
    "trips[trips['trip_id'] == 694608358]"
   ]
  },
  {
   "cell_type": "code",
   "execution_count": 35,
   "metadata": {},
   "outputs": [],
   "source": [
    "getCompleteBlockSchedule(7633720).to_csv(\"complete_block_schedule_7633720_sorted.csv\", index=False)"
   ]
  },
  {
   "cell_type": "code",
   "execution_count": 36,
   "metadata": {},
   "outputs": [],
   "source": [
    "def generateBlockScheduleForTrip(trip_id):    \n",
    "    trip = trips[trips['trip_id'] == trip_id]\n",
    "    block = trip['block_id']\n",
    "    return getCompleteBlockSchedule(block.values[0]) , block.values[0] "
   ]
  },
  {
   "cell_type": "code",
   "execution_count": 37,
   "metadata": {},
   "outputs": [],
   "source": [
    "def getRouteForTrip(trip_id):\n",
    "    trip = trips[trips['trip_id'] == trip_id]\n",
    "    route_id = trip['route_id'].values[0]\n",
    "    return route_id"
   ]
  },
  {
   "cell_type": "code",
   "execution_count": 38,
   "metadata": {},
   "outputs": [],
   "source": [
    "sche , block =  generateBlockScheduleForTrip(630541968)\n",
    "sche.to_csv(f\"complete_block_schedule_{block}.csv\", index=False)"
   ]
  },
  {
   "cell_type": "code",
   "execution_count": 39,
   "metadata": {},
   "outputs": [],
   "source": [
    "\n",
    "sche , block =  generateBlockScheduleForTrip(721361888)\n",
    "sche.to_csv(f\"complete_block_schedule_{block}.csv\", index=False)"
   ]
  },
  {
   "cell_type": "code",
   "execution_count": 40,
   "metadata": {},
   "outputs": [],
   "source": [
    "sche , block =  generateBlockScheduleForTrip(686405558)\n",
    "sche.to_csv(f\"complete_block_schedule_{block}.csv\", index=False)"
   ]
  },
  {
   "cell_type": "code",
   "execution_count": 41,
   "metadata": {},
   "outputs": [
    {
     "data": {
      "text/plain": [
       "np.int64(100254)"
      ]
     },
     "execution_count": 41,
     "metadata": {},
     "output_type": "execute_result"
    }
   ],
   "source": [
    "getRouteForTrip(724948068)"
   ]
  },
  {
   "cell_type": "code",
   "execution_count": 42,
   "metadata": {},
   "outputs": [
    {
     "data": {
      "text/plain": [
       "{'service_id': 86832,\n",
       " 'start_date': Timestamp('2025-05-01 00:00:00'),\n",
       " 'end_date': Timestamp('2025-08-29 00:00:00'),\n",
       " 'active_days': ['Tuesday', 'Wednesday', 'Thursday'],\n",
       " 'exceptions': {Timestamp('2025-05-26 00:00:00'): 2,\n",
       "  Timestamp('2025-08-04 00:00:00'): 1,\n",
       "  Timestamp('2025-08-11 00:00:00'): 1,\n",
       "  Timestamp('2025-06-02 00:00:00'): 1,\n",
       "  Timestamp('2025-07-28 00:00:00'): 1,\n",
       "  Timestamp('2025-05-19 00:00:00'): 1,\n",
       "  Timestamp('2025-07-21 00:00:00'): 1,\n",
       "  Timestamp('2025-05-12 00:00:00'): 1,\n",
       "  Timestamp('2025-07-07 00:00:00'): 1,\n",
       "  Timestamp('2025-07-14 00:00:00'): 1,\n",
       "  Timestamp('2025-05-05 00:00:00'): 1,\n",
       "  Timestamp('2025-06-30 00:00:00'): 1,\n",
       "  Timestamp('2025-08-25 00:00:00'): 1,\n",
       "  Timestamp('2025-06-16 00:00:00'): 1,\n",
       "  Timestamp('2025-06-23 00:00:00'): 1,\n",
       "  Timestamp('2025-08-18 00:00:00'): 1,\n",
       "  Timestamp('2025-06-09 00:00:00'): 1,\n",
       "  Timestamp('2025-07-04 00:00:00'): 2,\n",
       "  Timestamp('2025-06-20 00:00:00'): 1,\n",
       "  Timestamp('2025-08-15 00:00:00'): 1,\n",
       "  Timestamp('2025-06-06 00:00:00'): 1,\n",
       "  Timestamp('2025-08-01 00:00:00'): 1,\n",
       "  Timestamp('2025-05-23 00:00:00'): 1,\n",
       "  Timestamp('2025-08-08 00:00:00'): 1,\n",
       "  Timestamp('2025-05-30 00:00:00'): 1,\n",
       "  Timestamp('2025-07-25 00:00:00'): 1,\n",
       "  Timestamp('2025-05-16 00:00:00'): 1,\n",
       "  Timestamp('2025-07-11 00:00:00'): 1,\n",
       "  Timestamp('2025-07-18 00:00:00'): 1,\n",
       "  Timestamp('2025-05-09 00:00:00'): 1,\n",
       "  Timestamp('2025-08-29 00:00:00'): 1,\n",
       "  Timestamp('2025-05-02 00:00:00'): 1,\n",
       "  Timestamp('2025-06-27 00:00:00'): 1,\n",
       "  Timestamp('2025-08-22 00:00:00'): 1,\n",
       "  Timestamp('2025-06-13 00:00:00'): 1}}"
      ]
     },
     "execution_count": 42,
     "metadata": {},
     "output_type": "execute_result"
    }
   ],
   "source": [
    "getServiceInfo(86832)"
   ]
  },
  {
   "cell_type": "code",
   "execution_count": 43,
   "metadata": {},
   "outputs": [
    {
     "data": {
      "text/plain": [
       "np.int64(23519)"
      ]
     },
     "execution_count": 43,
     "metadata": {},
     "output_type": "execute_result"
    }
   ],
   "source": [
    "getServiceID(686405558)"
   ]
  },
  {
   "cell_type": "code",
   "execution_count": 44,
   "metadata": {},
   "outputs": [
    {
     "data": {
      "text/plain": [
       "{'service_id': 23519,\n",
       " 'start_date': Timestamp('2025-05-03 00:00:00'),\n",
       " 'end_date': Timestamp('2025-08-23 00:00:00'),\n",
       " 'active_days': ['Saturday'],\n",
       " 'exceptions': {}}"
      ]
     },
     "execution_count": 44,
     "metadata": {},
     "output_type": "execute_result"
    }
   ],
   "source": [
    "getServiceInfo(23519)"
   ]
  },
  {
   "cell_type": "code",
   "execution_count": 45,
   "metadata": {},
   "outputs": [],
   "source": [
    "sche , block =  generateBlockScheduleForTrip(686404378)\n",
    "sche.to_csv(f\"complete_block_schedule_{1_686404378}.csv\", index=False)"
   ]
  },
  {
   "cell_type": "code",
   "execution_count": 46,
   "metadata": {},
   "outputs": [
    {
     "data": {
      "text/plain": [
       "np.int64(23519)"
      ]
     },
     "execution_count": 46,
     "metadata": {},
     "output_type": "execute_result"
    }
   ],
   "source": [
    "getServiceID(534531868)"
   ]
  },
  {
   "cell_type": "code",
   "execution_count": 47,
   "metadata": {},
   "outputs": [],
   "source": [
    "blockIds = trips['block_id'].unique()\n",
    "schedules = [getCompleteBlockSchedule(x) for x in blockIds]\n",
    "# sort based on last arrival time of each schedule\n",
    "schedules_sorted = sorted(schedules, key=lambda x: x['arrival_time'].max())"
   ]
  },
  {
   "cell_type": "code",
   "execution_count": 50,
   "metadata": {},
   "outputs": [
    {
     "data": {
      "text/html": [
       "<div>\n",
       "<style scoped>\n",
       "    .dataframe tbody tr th:only-of-type {\n",
       "        vertical-align: middle;\n",
       "    }\n",
       "\n",
       "    .dataframe tbody tr th {\n",
       "        vertical-align: top;\n",
       "    }\n",
       "\n",
       "    .dataframe thead th {\n",
       "        text-align: right;\n",
       "    }\n",
       "</style>\n",
       "<table border=\"1\" class=\"dataframe\">\n",
       "  <thead>\n",
       "    <tr style=\"text-align: right;\">\n",
       "      <th></th>\n",
       "      <th>trip_id</th>\n",
       "      <th>arrival_time</th>\n",
       "      <th>departure_time</th>\n",
       "      <th>stop_id</th>\n",
       "      <th>stop_sequence</th>\n",
       "      <th>stop_headsign</th>\n",
       "      <th>pickup_type</th>\n",
       "      <th>drop_off_type</th>\n",
       "      <th>shape_dist_traveled</th>\n",
       "      <th>timepoint</th>\n",
       "    </tr>\n",
       "  </thead>\n",
       "  <tbody>\n",
       "    <tr>\n",
       "      <th>0</th>\n",
       "      <td>686482188</td>\n",
       "      <td>08:49:00</td>\n",
       "      <td>08:49:00</td>\n",
       "      <td>41902</td>\n",
       "      <td>1</td>\n",
       "      <td>NaN</td>\n",
       "      <td>0</td>\n",
       "      <td>0</td>\n",
       "      <td>0.0</td>\n",
       "      <td>1</td>\n",
       "    </tr>\n",
       "    <tr>\n",
       "      <th>1</th>\n",
       "      <td>686482188</td>\n",
       "      <td>08:50:31</td>\n",
       "      <td>08:50:31</td>\n",
       "      <td>41904</td>\n",
       "      <td>18</td>\n",
       "      <td>NaN</td>\n",
       "      <td>0</td>\n",
       "      <td>0</td>\n",
       "      <td>1494.2</td>\n",
       "      <td>0</td>\n",
       "    </tr>\n",
       "    <tr>\n",
       "      <th>2</th>\n",
       "      <td>686482188</td>\n",
       "      <td>08:52:13</td>\n",
       "      <td>08:52:13</td>\n",
       "      <td>41908</td>\n",
       "      <td>31</td>\n",
       "      <td>NaN</td>\n",
       "      <td>0</td>\n",
       "      <td>0</td>\n",
       "      <td>3150.6</td>\n",
       "      <td>0</td>\n",
       "    </tr>\n",
       "    <tr>\n",
       "      <th>3</th>\n",
       "      <td>686482188</td>\n",
       "      <td>08:53:18</td>\n",
       "      <td>08:53:18</td>\n",
       "      <td>41965</td>\n",
       "      <td>37</td>\n",
       "      <td>NaN</td>\n",
       "      <td>0</td>\n",
       "      <td>0</td>\n",
       "      <td>4211.8</td>\n",
       "      <td>0</td>\n",
       "    </tr>\n",
       "    <tr>\n",
       "      <th>4</th>\n",
       "      <td>686482188</td>\n",
       "      <td>08:54:08</td>\n",
       "      <td>08:54:08</td>\n",
       "      <td>41970</td>\n",
       "      <td>40</td>\n",
       "      <td>NaN</td>\n",
       "      <td>0</td>\n",
       "      <td>0</td>\n",
       "      <td>5040.1</td>\n",
       "      <td>0</td>\n",
       "    </tr>\n",
       "    <tr>\n",
       "      <th>...</th>\n",
       "      <td>...</td>\n",
       "      <td>...</td>\n",
       "      <td>...</td>\n",
       "      <td>...</td>\n",
       "      <td>...</td>\n",
       "      <td>...</td>\n",
       "      <td>...</td>\n",
       "      <td>...</td>\n",
       "      <td>...</td>\n",
       "      <td>...</td>\n",
       "    </tr>\n",
       "    <tr>\n",
       "      <th>686</th>\n",
       "      <td>727421178</td>\n",
       "      <td>29:18:59</td>\n",
       "      <td>29:18:59</td>\n",
       "      <td>41980</td>\n",
       "      <td>159</td>\n",
       "      <td>Capitol Hill</td>\n",
       "      <td>0</td>\n",
       "      <td>0</td>\n",
       "      <td>23486.2</td>\n",
       "      <td>0</td>\n",
       "    </tr>\n",
       "    <tr>\n",
       "      <th>687</th>\n",
       "      <td>727421178</td>\n",
       "      <td>29:19:40</td>\n",
       "      <td>29:19:40</td>\n",
       "      <td>41982</td>\n",
       "      <td>162</td>\n",
       "      <td>Capitol Hill</td>\n",
       "      <td>0</td>\n",
       "      <td>0</td>\n",
       "      <td>24008.4</td>\n",
       "      <td>0</td>\n",
       "    </tr>\n",
       "    <tr>\n",
       "      <th>688</th>\n",
       "      <td>727421178</td>\n",
       "      <td>29:21:04</td>\n",
       "      <td>29:21:04</td>\n",
       "      <td>41986</td>\n",
       "      <td>168</td>\n",
       "      <td>Capitol Hill</td>\n",
       "      <td>0</td>\n",
       "      <td>0</td>\n",
       "      <td>25090.7</td>\n",
       "      <td>0</td>\n",
       "    </tr>\n",
       "    <tr>\n",
       "      <th>689</th>\n",
       "      <td>727421178</td>\n",
       "      <td>29:23:03</td>\n",
       "      <td>29:23:03</td>\n",
       "      <td>41987</td>\n",
       "      <td>181</td>\n",
       "      <td>Capitol Hill</td>\n",
       "      <td>0</td>\n",
       "      <td>0</td>\n",
       "      <td>26611.0</td>\n",
       "      <td>0</td>\n",
       "    </tr>\n",
       "    <tr>\n",
       "      <th>690</th>\n",
       "      <td>727421178</td>\n",
       "      <td>29:25:00</td>\n",
       "      <td>29:25:00</td>\n",
       "      <td>41989</td>\n",
       "      <td>197</td>\n",
       "      <td>Capitol Hill</td>\n",
       "      <td>0</td>\n",
       "      <td>0</td>\n",
       "      <td>28116.0</td>\n",
       "      <td>1</td>\n",
       "    </tr>\n",
       "  </tbody>\n",
       "</table>\n",
       "<p>691 rows × 10 columns</p>\n",
       "</div>"
      ],
      "text/plain": [
       "       trip_id arrival_time departure_time  stop_id  stop_sequence  \\\n",
       "0    686482188     08:49:00       08:49:00    41902              1   \n",
       "1    686482188     08:50:31       08:50:31    41904             18   \n",
       "2    686482188     08:52:13       08:52:13    41908             31   \n",
       "3    686482188     08:53:18       08:53:18    41965             37   \n",
       "4    686482188     08:54:08       08:54:08    41970             40   \n",
       "..         ...          ...            ...      ...            ...   \n",
       "686  727421178     29:18:59       29:18:59    41980            159   \n",
       "687  727421178     29:19:40       29:19:40    41982            162   \n",
       "688  727421178     29:21:04       29:21:04    41986            168   \n",
       "689  727421178     29:23:03       29:23:03    41987            181   \n",
       "690  727421178     29:25:00       29:25:00    41989            197   \n",
       "\n",
       "    stop_headsign  pickup_type  drop_off_type  shape_dist_traveled  timepoint  \n",
       "0             NaN            0              0                  0.0          1  \n",
       "1             NaN            0              0               1494.2          0  \n",
       "2             NaN            0              0               3150.6          0  \n",
       "3             NaN            0              0               4211.8          0  \n",
       "4             NaN            0              0               5040.1          0  \n",
       "..            ...          ...            ...                  ...        ...  \n",
       "686  Capitol Hill            0              0              23486.2          0  \n",
       "687  Capitol Hill            0              0              24008.4          0  \n",
       "688  Capitol Hill            0              0              25090.7          0  \n",
       "689  Capitol Hill            0              0              26611.0          0  \n",
       "690  Capitol Hill            0              0              28116.0          1  \n",
       "\n",
       "[691 rows x 10 columns]"
      ]
     },
     "execution_count": 50,
     "metadata": {},
     "output_type": "execute_result"
    }
   ],
   "source": [
    "# last schedule\n",
    "schedules_sorted[-1]"
   ]
  },
  {
   "cell_type": "code",
   "execution_count": 52,
   "metadata": {},
   "outputs": [
    {
     "data": {
      "text/plain": [
       "{'service_id': np.int64(23519),\n",
       " 'start_date': Timestamp('2025-05-03 00:00:00'),\n",
       " 'end_date': Timestamp('2025-08-23 00:00:00'),\n",
       " 'active_days': ['Saturday'],\n",
       " 'exceptions': {}}"
      ]
     },
     "execution_count": 52,
     "metadata": {},
     "output_type": "execute_result"
    }
   ],
   "source": [
    "getServiceInfo(getServiceID(727421178))"
   ]
  }
 ],
 "metadata": {
  "kernelspec": {
   "display_name": ".venv",
   "language": "python",
   "name": "python3"
  },
  "language_info": {
   "codemirror_mode": {
    "name": "ipython",
    "version": 3
   },
   "file_extension": ".py",
   "mimetype": "text/x-python",
   "name": "python",
   "nbconvert_exporter": "python",
   "pygments_lexer": "ipython3",
   "version": "3.10.12"
  }
 },
 "nbformat": 4,
 "nbformat_minor": 2
}
