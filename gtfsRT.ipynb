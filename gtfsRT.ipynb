{
 "cells": [
  {
   "cell_type": "code",
   "execution_count": 2,
   "metadata": {},
   "outputs": [
    {
     "name": "stdout",
     "output_type": "stream",
     "text": [
      "Fetching GTFS feed from: https://api.pugetsound.onebusaway.org/api/gtfs_realtime/trip-updates-for-agency/1.pb?key=org.onebusaway.iphone\n",
      "Fetching GTFS feed from: https://api.pugetsound.onebusaway.org/api/gtfs_realtime/vehicle-positions-for-agency/1.pb?key=org.onebusaway.iphone\n",
      "Fetching GTFS feed from: https://api.pugetsound.onebusaway.org/api/gtfs_realtime/alerts-for-agency/1.pb?key=org.onebusaway.iphone\n"
     ]
    }
   ],
   "source": [
    "import requests\n",
    "from google.transit import gtfs_realtime_pb2\n",
    "from datetime import datetime\n",
    "import os\n",
    "\n",
    "def fetch_and_parse_feed(url):\n",
    "    print(f\"Fetching GTFS feed from: {url}\")\n",
    "    response = requests.get(url)\n",
    "    if response.status_code == 200:\n",
    "        feed = gtfs_realtime_pb2.FeedMessage()\n",
    "        feed.ParseFromString(response.content)\n",
    "        return feed\n",
    "    else:\n",
    "        raise Exception(f\"Failed to fetch GTFS feed: {response.status_code}\")\n",
    "\n",
    "# Get current timestamp for filenames\n",
    "timestamp = datetime.now().strftime(\"%Y%m%d_%H%M%S\")\n",
    "\n",
    "# URLs\n",
    "trip_updates_url = \"https://api.pugetsound.onebusaway.org/api/gtfs_realtime/trip-updates-for-agency/1.pb?key=org.onebusaway.iphone\"\n",
    "vehicle_positions_url = \"https://api.pugetsound.onebusaway.org/api/gtfs_realtime/vehicle-positions-for-agency/1.pb?key=org.onebusaway.iphone\"\n",
    "alerts_url = \"https://api.pugetsound.onebusaway.org/api/gtfs_realtime/alerts-for-agency/1.pb?key=org.onebusaway.iphone\"\n",
    "\n",
    "\n",
    "# Fetch and parse feeds\n",
    "trip_updates = fetch_and_parse_feed(trip_updates_url)\n",
    "vehicle_positions = fetch_and_parse_feed(vehicle_positions_url)\n",
    "alerts = fetch_and_parse_feed(alerts_url)\n",
    "\n",
    "# Create output folder (optional)\n",
    "output_dir = \"./gtfsRT-Analysis/gtfs_outputs\"\n",
    "os.makedirs(output_dir, exist_ok=True)\n",
    "\n",
    "# Write decoded (human-readable) text files\n",
    "with open(f\"{output_dir}/trip_updates_{timestamp}.txt\", \"w\", encoding='utf-8') as f:\n",
    "    f.write(str(trip_updates))\n",
    "\n",
    "with open(f\"{output_dir}/vehicle_positions_{timestamp}.txt\", \"w\", encoding='utf-8') as f:\n",
    "    f.write(str(vehicle_positions))\n",
    "\n",
    "with open(f\"{output_dir}/alerts_{timestamp}.txt\", \"w\", encoding='utf-8') as f:\n",
    "    f.write(str(alerts))\n"
   ]
  },
  {
   "cell_type": "code",
   "execution_count": 3,
   "metadata": {},
   "outputs": [
    {
     "name": "stdout",
     "output_type": "stream",
     "text": [
      "Fetching GTFS feed from: http://localhost:1234/trip-updates\n",
      "Fetching GTFS feed from: http://localhost:1234/vehicle-positions\n",
      "Fetching GTFS feed from: http://localhost:1234/service-alerts\n"
     ]
    }
   ],
   "source": [
    "# Get current timestamp for filenames\n",
    "timestamp = datetime.now().strftime(\"%Y%m%d_%H%M%S\")\n",
    "\n",
    "# URLs\n",
    "host = \"localhost\"  # Replace with actual host if needed\n",
    "port = 1234  # Replace with actual port if needed\n",
    "trip_updates_url = f\"http://{host}:{port}/trip-updates\"\n",
    "vehicle_positions_url = f\"http://{host}:{port}/vehicle-positions\"\n",
    "alerts_url = f\"http://{host}:{port}/service-alerts\"\n",
    "\n",
    "\n",
    "# Fetch and parse feeds\n",
    "trip_updates = fetch_and_parse_feed(trip_updates_url)\n",
    "vehicle_positions = fetch_and_parse_feed(vehicle_positions_url)\n",
    "alerts = fetch_and_parse_feed(alerts_url)\n",
    "\n",
    "# Create output folder (optional)\n",
    "output_dir = \"./gtfsRT-Analysis/gtfs_outputs_mine\"\n",
    "os.makedirs(output_dir, exist_ok=True)\n",
    "\n",
    "# Write decoded (human-readable) text files\n",
    "with open(f\"{output_dir}/trip_updates_{timestamp}.txt\", \"w\", encoding='utf-8') as f:\n",
    "    f.write(str(trip_updates))\n",
    "\n",
    "with open(f\"{output_dir}/vehicle_positions_{timestamp}.txt\", \"w\", encoding='utf-8') as f:\n",
    "    f.write(str(vehicle_positions))\n",
    "\n",
    "with open(f\"{output_dir}/alerts_{timestamp}.txt\", \"w\", encoding='utf-8') as f:\n",
    "    f.write(str(alerts))\n"
   ]
  },
  {
   "cell_type": "markdown",
   "metadata": {},
   "source": [
    "# Analyse"
   ]
  },
  {
   "cell_type": "code",
   "execution_count": 4,
   "metadata": {},
   "outputs": [
    {
     "name": "stdout",
     "output_type": "stream",
     "text": [
      "\n",
      "--- TRIP_UPDATES ---\n",
      "Updated at: 2025-05-03 22:10:00\n",
      "Updated 112384.0 minutes ago\n",
      "Total entities: 1\n",
      "Entities with stop time updates: 0\n",
      "\n",
      "--- VEHICLE_POSITIONS ---\n",
      "Updated at: 2025-05-01 22:30:00\n",
      "Updated 115244.0 minutes ago\n",
      "Total entities: 100\n",
      "Unique vehicle IDs: 100\n",
      "\n",
      "--- ALERTS ---\n",
      "Updated at: 2025-05-01 22:30:00\n",
      "Updated 115244.0 minutes ago\n",
      "Total entities: 25\n",
      "Entities with alerts: 25\n"
     ]
    }
   ],
   "source": [
    "from datetime import datetime, timedelta\n",
    "\n",
    "def print_feed_insights(feed, feed_name):\n",
    "    print(f\"\\n--- {feed_name.upper()} ---\")\n",
    "\n",
    "    # Header timestamp (in seconds since epoch)\n",
    "    if feed.header.timestamp:\n",
    "        updated_time = datetime.fromtimestamp(feed.header.timestamp)\n",
    "        age = datetime.now() - updated_time\n",
    "        print(f\"Updated at: {updated_time.strftime('%Y-%m-%d %H:%M:%S')}\")\n",
    "        print(f\"Updated {age.total_seconds() // 60:.1f} minutes ago\")\n",
    "    else:\n",
    "        print(\"No timestamp found in header\")\n",
    "\n",
    "    # Entity count\n",
    "    print(f\"Total entities: {len(feed.entity)}\")\n",
    "\n",
    "    # Custom breakdowns\n",
    "    if feed_name == \"trip_updates\":\n",
    "        count_with_stop_updates = sum(1 for e in feed.entity if e.trip_update and e.trip_update.stop_time_update)\n",
    "        print(f\"Entities with stop time updates: {count_with_stop_updates}\")\n",
    "    elif feed_name == \"vehicle_positions\":\n",
    "        vehicle_ids = [e.vehicle.vehicle.id for e in feed.entity if e.vehicle and e.vehicle.vehicle.id]\n",
    "        print(f\"Unique vehicle IDs: {len(set(vehicle_ids))}\")\n",
    "    elif feed_name == \"alerts\":\n",
    "        alert_count = sum(1 for e in feed.entity if e.alert)\n",
    "        print(f\"Entities with alerts: {alert_count}\")\n",
    "\n",
    "# Print insights\n",
    "print_feed_insights(trip_updates, \"trip_updates\")\n",
    "print_feed_insights(vehicle_positions, \"vehicle_positions\")\n",
    "print_feed_insights(alerts, \"alerts\")\n"
   ]
  }
 ],
 "metadata": {
  "kernelspec": {
   "display_name": ".venv",
   "language": "python",
   "name": "python3"
  },
  "language_info": {
   "codemirror_mode": {
    "name": "ipython",
    "version": 3
   },
   "file_extension": ".py",
   "mimetype": "text/x-python",
   "name": "python",
   "nbconvert_exporter": "python",
   "pygments_lexer": "ipython3",
   "version": "3.10.12"
  }
 },
 "nbformat": 4,
 "nbformat_minor": 2
}
